{
 "cells": [
  {
   "cell_type": "markdown",
   "metadata": {
    "tags": [
     "Title"
    ]
   },
   "source": [
    "# Dataset Title"
   ]
  },
  {
   "cell_type": "markdown",
   "metadata": {
    "tags": [
     "Description"
    ]
   },
   "source": [
    "The description is a summary of the dataset that is short enough to include in the metadata"
   ]
  },
  {
   "cell_type": "markdown",
   "metadata": {
    "tags": [
     "readme"
    ]
   },
   "source": [
    "The readme text can be any length, and is copied into the README.md file in filesystem and ZIP packages. "
   ]
  },
  {
   "cell_type": "raw",
   "metadata": {
    "tags": [
     "metadata"
    ]
   },
   "source": [
    "Name:\n",
    "Origin:\n",
    "Dataset:\n",
    "Version: 1\n",
    "Space: \n",
    "Time:\n",
    "\n",
    "Section: Documentation|Title|Description\n",
    "Homepage: http://metatab.org\n",
    "    .Title: Metatab Home Page\n",
    "    .Description: Main Metatab home page\n",
    "Documentation: https://github.com/CivicKnowledge/metatab-py/blob/master/README.rst\n",
    "    .Title: Metatab Python Package README\n",
    "    .Description: The README in the Metatab Githup repo contains the tutorial for generating this package.\n",
    "\n",
    "Section: Contacts|email\n"
   ]
  },
  {
   "cell_type": "raw",
   "metadata": {
    "tags": [
     "resources"
    ]
   },
   "source": [
    "Section: References|Name|Description|\n",
    "\n",
    "Section: Resources|Name|Description|\n",
    "    Datafile: #df\n",
    "    Name: df\n",
    "    Description: Example resource"
   ]
  },
  {
   "cell_type": "code",
   "execution_count": 7,
   "metadata": {},
   "outputs": [
    {
     "name": "stdout",
     "output_type": "stream",
     "text": [
      "The metapack.jupyter.magic extension is already loaded. To reload it, use:\n",
      "  %reload_ext metapack.jupyter.magic\n"
     ]
    }
   ],
   "source": [
    "import seaborn as sns\n",
    "import metapack as mp\n",
    "import pandas as pd\n",
    "import numpy as np\n",
    "import matplotlib.pyplot as plt\n",
    "from IPython.display import display \n",
    "\n",
    "%matplotlib inline\n",
    "%load_ext metapack.jupyter.magic\n",
    "sns.set_context('notebook')\n",
    "mp.jupyter.init()"
   ]
  },
  {
   "cell_type": "code",
   "execution_count": 8,
   "metadata": {},
   "outputs": [],
   "source": [
    "# Code goes after metadata, before schema\n",
    "df = pd.DataFrame({\n",
    "    'rand': np.random.randint(0,100,1000)\n",
    "})\n",
    "\n"
   ]
  },
  {
   "cell_type": "raw",
   "metadata": {
    "tags": [
     "schema"
    ]
   },
   "source": []
  }
 ],
 "metadata": {
  "celltoolbar": "Tags",
  "kernelspec": {
   "display_name": "Python 3",
   "language": "python",
   "name": "python3"
  },
  "language_info": {
   "codemirror_mode": {
    "name": "ipython",
    "version": 3
   },
   "file_extension": ".py",
   "mimetype": "text/x-python",
   "name": "python",
   "nbconvert_exporter": "python",
   "pygments_lexer": "ipython3",
   "version": "3.6.0"
  }
 },
 "nbformat": 4,
 "nbformat_minor": 2
}
