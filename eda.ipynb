{
 "cells": [
  {
   "cell_type": "markdown",
   "metadata": {},
   "source": [
    "# Exploratory Data Analysis\n",
    "\n",
    "When placed in Metapack data package, this notebook will load the package and run a variety of common EDA operations on the first resource. \n"
   ]
  },
  {
   "cell_type": "code",
   "execution_count": 1,
   "metadata": {},
   "outputs": [],
   "source": [
    "import matplotlib.pyplot as plt \n",
    "import seaborn as sns\n",
    "import metapack as mp\n",
    "import pandas as pd\n",
    "import numpy as np\n",
    "from IPython.display import display \n",
    "\n",
    "%matplotlib inline\n",
    "sns.set_context('notebook')\n"
   ]
  },
  {
   "cell_type": "code",
   "execution_count": 2,
   "metadata": {},
   "outputs": [
    {
     "data": {
      "text/html": [
       "<h2>California Accountability Model &amp; School Dashboard</h2>\n",
       "<p><p><em>Datasets for the California school dashboard at https://www.caschooldashboard.org</em></p>\n",
       "<p><small>cde.ca.gov-accountability_dashboard-2 from metapack+http://s3.amazonaws.com/library.metatab.org/cde.ca.gov-accountability_dashboard-2.zip#metadata.csv</small></p></p>\n",
       "<h3>Documentation</h3>\n",
       "<h3>Contacts</h3>\n",
       "<p><strong>Origin:</strong>  <a href=\"http://www.cde.ca.gov/\">California Department of Education</a>\n",
       "<strong>Wrangler:</strong> <a href=\"mailto:eric@civicknowledge.com\">Eric Busboom</a> <a href=\"http://www.civicknowledge.com\">Civic Knowledge</a></p>\n",
       "<h3>Resources</h3>\n",
       "<p><ol>\n",
       "<li><p><strong>ela38</strong> - <a target=\"_blank\" href=\"file:///Users/eric/Library/Application%20Support/metapack/s3.amazonaws.com/library.metatab.org/cde.ca.gov-accountability_dashboard-2.zip_d/cde.ca.gov-accountability_dashboard-2/data/ela38.csv\">file:///Users/eric/Library/Application%20Support/metapack/s3.amazonaws.com/library.metatab.org/cde.ca.gov-accountability_dashboard-2.zip_d/cde.ca.gov-accountability_dashboard-2/data/ela38.csv</a> English Language Arts, Grades 3-8</p></li>\n",
       "<li><p><strong>ela11</strong> - <a target=\"_blank\" href=\"file:///Users/eric/Library/Application%20Support/metapack/s3.amazonaws.com/library.metatab.org/cde.ca.gov-accountability_dashboard-2.zip_d/cde.ca.gov-accountability_dashboard-2/data/ela11.csv\">file:///Users/eric/Library/Application%20Support/metapack/s3.amazonaws.com/library.metatab.org/cde.ca.gov-accountability_dashboard-2.zip_d/cde.ca.gov-accountability_dashboard-2/data/ela11.csv</a> English Language Arts, Grade 11</p></li>\n",
       "<li><p><strong>math38</strong> - <a target=\"_blank\" href=\"file:///Users/eric/Library/Application%20Support/metapack/s3.amazonaws.com/library.metatab.org/cde.ca.gov-accountability_dashboard-2.zip_d/cde.ca.gov-accountability_dashboard-2/data/math38.csv\">file:///Users/eric/Library/Application%20Support/metapack/s3.amazonaws.com/library.metatab.org/cde.ca.gov-accountability_dashboard-2.zip_d/cde.ca.gov-accountability_dashboard-2/data/math38.csv</a> Math, Grades 3-8</p></li>\n",
       "<li><p><strong>math11</strong> - <a target=\"_blank\" href=\"file:///Users/eric/Library/Application%20Support/metapack/s3.amazonaws.com/library.metatab.org/cde.ca.gov-accountability_dashboard-2.zip_d/cde.ca.gov-accountability_dashboard-2/data/math11.csv\">file:///Users/eric/Library/Application%20Support/metapack/s3.amazonaws.com/library.metatab.org/cde.ca.gov-accountability_dashboard-2.zip_d/cde.ca.gov-accountability_dashboard-2/data/math11.csv</a> Math, Grade 11</p></li>\n",
       "<li><p><strong>collegecareer</strong> - <a target=\"_blank\" href=\"file:///Users/eric/Library/Application%20Support/metapack/s3.amazonaws.com/library.metatab.org/cde.ca.gov-accountability_dashboard-2.zip_d/cde.ca.gov-accountability_dashboard-2/data/collegecareer.csv\">file:///Users/eric/Library/Application%20Support/metapack/s3.amazonaws.com/library.metatab.org/cde.ca.gov-accountability_dashboard-2.zip_d/cde.ca.gov-accountability_dashboard-2/data/collegecareer.csv</a> College / Career Indicators</p></li>\n",
       "<li><p><strong>gradrate</strong> - <a target=\"_blank\" href=\"file:///Users/eric/Library/Application%20Support/metapack/s3.amazonaws.com/library.metatab.org/cde.ca.gov-accountability_dashboard-2.zip_d/cde.ca.gov-accountability_dashboard-2/data/gradrate.csv\">file:///Users/eric/Library/Application%20Support/metapack/s3.amazonaws.com/library.metatab.org/cde.ca.gov-accountability_dashboard-2.zip_d/cde.ca.gov-accountability_dashboard-2/data/gradrate.csv</a> Graduation Rate</p></li>\n",
       "<li><p><strong>susprate</strong> - <a target=\"_blank\" href=\"file:///Users/eric/Library/Application%20Support/metapack/s3.amazonaws.com/library.metatab.org/cde.ca.gov-accountability_dashboard-2.zip_d/cde.ca.gov-accountability_dashboard-2/data/susprate.csv\">file:///Users/eric/Library/Application%20Support/metapack/s3.amazonaws.com/library.metatab.org/cde.ca.gov-accountability_dashboard-2.zip_d/cde.ca.gov-accountability_dashboard-2/data/susprate.csv</a> Suspension Rate</p></li>\n",
       "<li><p><strong>elaprog</strong> - <a target=\"_blank\" href=\"file:///Users/eric/Library/Application%20Support/metapack/s3.amazonaws.com/library.metatab.org/cde.ca.gov-accountability_dashboard-2.zip_d/cde.ca.gov-accountability_dashboard-2/data/elaprog.csv\">file:///Users/eric/Library/Application%20Support/metapack/s3.amazonaws.com/library.metatab.org/cde.ca.gov-accountability_dashboard-2.zip_d/cde.ca.gov-accountability_dashboard-2/data/elaprog.csv</a> English Language Arts Progress Indicators</p></li>\n",
       "<li><p><strong>pubschools</strong> - <a target=\"_blank\" href=\"file:///Users/eric/Library/Application%20Support/metapack/s3.amazonaws.com/library.metatab.org/cde.ca.gov-accountability_dashboard-2.zip_d/cde.ca.gov-accountability_dashboard-2/data/pubschools.csv\">file:///Users/eric/Library/Application%20Support/metapack/s3.amazonaws.com/library.metatab.org/cde.ca.gov-accountability_dashboard-2.zip_d/cde.ca.gov-accountability_dashboard-2/data/pubschools.csv</a> List of all public schools and districts</p></li></p>\n",
       "</ol>\n",
       "\n",
       "</ol>"
      ],
      "text/plain": [
       "<metapack.doc.MetapackDoc at 0x10f68b1d0>"
      ]
     },
     "execution_count": 2,
     "metadata": {},
     "output_type": "execute_result"
    }
   ],
   "source": [
    "\n",
    "try:\n",
    "    pkg = mp.jupyter.open_package()\n",
    "except mp.exc.PackageError:\n",
    "    pkg = mp.open_package('http://s3.amazonaws.com/library.metatab.org/cde.ca.gov-accountability_dashboard-2.zip')\n",
    "\n",
    "pkg"
   ]
  },
  {
   "cell_type": "code",
   "execution_count": 3,
   "metadata": {},
   "outputs": [
    {
     "data": {
      "text/plain": [
       "'ela38'"
      ]
     },
     "execution_count": 3,
     "metadata": {},
     "output_type": "execute_result"
    }
   ],
   "source": [
    "first_resource = next(iter(pkg.resources())).name\n",
    "first_resource"
   ]
  },
  {
   "cell_type": "code",
   "execution_count": 4,
   "metadata": {},
   "outputs": [
    {
     "data": {
      "text/html": [
       "<h3><a name=\"resource-ela38\"></a>ela38</h3><p><a target=\"_blank\" href=\"file:///Users/eric/Library/Application%20Support/metapack/s3.amazonaws.com/library.metatab.org/cde.ca.gov-accountability_dashboard-2.zip_d/cde.ca.gov-accountability_dashboard-2/data/ela38.csv\">file:///Users/eric/Library/Application%20Support/metapack/s3.amazonaws.com/library.metatab.org/cde.ca.gov-accountability_dashboard-2.zip_d/cde.ca.gov-accountability_dashboard-2/data/ela38.csv</a></p><table>\n",
       "<tr><th>Header</th><th>Type</th><th>Description</th></tr><tr><td>cds</td><td>integer</td><td>CDS Code</td></tr> \n",
       "<tr><td>rtype</td><td>text</td><td>Record Type</td></tr> \n",
       "<tr><td>studentgroup</td><td>text</td><td>Student Group</td></tr> \n",
       "<tr><td>currdenom</td><td>integer</td><td>Current year number of valid students</td></tr> \n",
       "<tr><td>priordenom</td><td>integer</td><td>CURRENT STATUS - Average distance from level 3</td></tr> \n",
       "<tr><td>currstatus</td><td>text</td><td>Prior year number of valid students</td></tr> \n",
       "<tr><td>priorstatus</td><td>text</td><td>PRIOR STATUS - Average distance from level 3</td></tr> \n",
       "<tr><td>change</td><td>text</td><td>CHANGE - Difference between current status and prior status</td></tr> \n",
       "<tr><td>statuslevel</td><td>integer</td><td>Status Level</td></tr> \n",
       "<tr><td>changelevel</td><td>integer</td><td>Change Level</td></tr> \n",
       "<tr><td>color</td><td>integer</td><td>Color</td></tr> \n",
       "<tr><td>box</td><td>integer</td><td>If a color was assigned, this value represents the specific 5x5 grid location</td></tr> </table>"
      ],
      "text/plain": [
       "<Resource: metadata.csv 21:1 root.datafile data/ela38.csv ['ela38', '', 'English Language Arts, Grades 3-8']>"
      ]
     },
     "execution_count": 4,
     "metadata": {},
     "output_type": "execute_result"
    }
   ],
   "source": [
    "\n",
    "pkg.resource(first_resource)\n"
   ]
  },
  {
   "cell_type": "code",
   "execution_count": 5,
   "metadata": {},
   "outputs": [],
   "source": [
    "df = pkg.resource(first_resource).read_csv(parse_dates=True)"
   ]
  },
  {
   "cell_type": "code",
   "execution_count": 6,
   "metadata": {},
   "outputs": [
    {
     "data": {
      "text/html": [
       "<div>\n",
       "<style scoped>\n",
       "    .dataframe tbody tr th:only-of-type {\n",
       "        vertical-align: middle;\n",
       "    }\n",
       "\n",
       "    .dataframe tbody tr th {\n",
       "        vertical-align: top;\n",
       "    }\n",
       "\n",
       "    .dataframe thead th {\n",
       "        text-align: right;\n",
       "    }\n",
       "</style>\n",
       "<table border=\"1\" class=\"dataframe\">\n",
       "  <thead>\n",
       "    <tr style=\"text-align: right;\">\n",
       "      <th></th>\n",
       "      <th>cds</th>\n",
       "      <th>rtype</th>\n",
       "      <th>studentgroup</th>\n",
       "      <th>currdenom</th>\n",
       "      <th>priordenom</th>\n",
       "      <th>currstatus</th>\n",
       "      <th>priorstatus</th>\n",
       "      <th>change</th>\n",
       "      <th>statuslevel</th>\n",
       "      <th>changelevel</th>\n",
       "      <th>color</th>\n",
       "      <th>box</th>\n",
       "    </tr>\n",
       "  </thead>\n",
       "  <tbody>\n",
       "    <tr>\n",
       "      <th>0</th>\n",
       "      <td>1100170123968</td>\n",
       "      <td>S</td>\n",
       "      <td>AA</td>\n",
       "      <td>14</td>\n",
       "      <td>23</td>\n",
       "      <td>-87.7</td>\n",
       "      <td>-41.6</td>\n",
       "      <td>-46.1</td>\n",
       "      <td>1</td>\n",
       "      <td>1</td>\n",
       "      <td>0</td>\n",
       "      <td>0</td>\n",
       "    </tr>\n",
       "    <tr>\n",
       "      <th>1</th>\n",
       "      <td>1100170123968</td>\n",
       "      <td>S</td>\n",
       "      <td>AI</td>\n",
       "      <td>2</td>\n",
       "      <td>0</td>\n",
       "      <td>NaN</td>\n",
       "      <td>NaN</td>\n",
       "      <td>NaN</td>\n",
       "      <td>0</td>\n",
       "      <td>0</td>\n",
       "      <td>0</td>\n",
       "      <td>0</td>\n",
       "    </tr>\n",
       "    <tr>\n",
       "      <th>2</th>\n",
       "      <td>1100170123968</td>\n",
       "      <td>S</td>\n",
       "      <td>ALL</td>\n",
       "      <td>86</td>\n",
       "      <td>81</td>\n",
       "      <td>-58.8</td>\n",
       "      <td>-48.0</td>\n",
       "      <td>-10.8</td>\n",
       "      <td>2</td>\n",
       "      <td>2</td>\n",
       "      <td>2</td>\n",
       "      <td>170</td>\n",
       "    </tr>\n",
       "    <tr>\n",
       "      <th>3</th>\n",
       "      <td>1100170123968</td>\n",
       "      <td>S</td>\n",
       "      <td>AS</td>\n",
       "      <td>4</td>\n",
       "      <td>5</td>\n",
       "      <td>NaN</td>\n",
       "      <td>NaN</td>\n",
       "      <td>NaN</td>\n",
       "      <td>0</td>\n",
       "      <td>0</td>\n",
       "      <td>0</td>\n",
       "      <td>0</td>\n",
       "    </tr>\n",
       "    <tr>\n",
       "      <th>4</th>\n",
       "      <td>1100170123968</td>\n",
       "      <td>S</td>\n",
       "      <td>EL</td>\n",
       "      <td>38</td>\n",
       "      <td>23</td>\n",
       "      <td>-79.9</td>\n",
       "      <td>-70.0</td>\n",
       "      <td>-9.9</td>\n",
       "      <td>1</td>\n",
       "      <td>2</td>\n",
       "      <td>0</td>\n",
       "      <td>0</td>\n",
       "    </tr>\n",
       "  </tbody>\n",
       "</table>\n",
       "</div>"
      ],
      "text/plain": [
       "             cds rtype studentgroup  currdenom  priordenom  currstatus  \\\n",
       "0  1100170123968     S           AA         14          23       -87.7   \n",
       "1  1100170123968     S           AI          2           0         NaN   \n",
       "2  1100170123968     S          ALL         86          81       -58.8   \n",
       "3  1100170123968     S           AS          4           5         NaN   \n",
       "4  1100170123968     S           EL         38          23       -79.9   \n",
       "\n",
       "   priorstatus  change  statuslevel  changelevel  color  box  \n",
       "0        -41.6   -46.1            1            1      0    0  \n",
       "1          NaN     NaN            0            0      0    0  \n",
       "2        -48.0   -10.8            2            2      2  170  \n",
       "3          NaN     NaN            0            0      0    0  \n",
       "4        -70.0    -9.9            1            2      0    0  "
      ]
     },
     "execution_count": 6,
     "metadata": {},
     "output_type": "execute_result"
    }
   ],
   "source": [
    "df.head()"
   ]
  },
  {
   "cell_type": "code",
   "execution_count": null,
   "metadata": {},
   "outputs": [],
   "source": [
    "empty_col_names = [cn for cn in df.columns if df[cn].nunique() == 0]\n",
    "const_col_names= [cn for cn in df.columns if df[cn].nunique() == 1]\n",
    "ignore_cols = empty_col_names+const_col_names\n",
    "dt_col_names= list(df.select_dtypes(include=[np.datetime64]).columns)\n",
    "\n",
    "number_col_names = [ cn for cn in df.select_dtypes(include=[np.number]).columns if cn not in ignore_cols ]\n",
    "other_col_names = [cn for cn in df.columns if cn not in (empty_col_names+const_col_names+dt_col_names+number_col_names)]"
   ]
  },
  {
   "cell_type": "code",
   "execution_count": 7,
   "metadata": {},
   "outputs": [
    {
     "data": {
      "text/html": [
       "<div>\n",
       "<style scoped>\n",
       "    .dataframe tbody tr th:only-of-type {\n",
       "        vertical-align: middle;\n",
       "    }\n",
       "\n",
       "    .dataframe tbody tr th {\n",
       "        vertical-align: top;\n",
       "    }\n",
       "\n",
       "    .dataframe thead th {\n",
       "        text-align: right;\n",
       "    }\n",
       "</style>\n",
       "<table border=\"1\" class=\"dataframe\">\n",
       "  <thead>\n",
       "    <tr style=\"text-align: right;\">\n",
       "      <th></th>\n",
       "      <th>count</th>\n",
       "    </tr>\n",
       "  </thead>\n",
       "  <tbody>\n",
       "    <tr>\n",
       "      <th>empty</th>\n",
       "      <td>0</td>\n",
       "    </tr>\n",
       "    <tr>\n",
       "      <th>const</th>\n",
       "      <td>0</td>\n",
       "    </tr>\n",
       "    <tr>\n",
       "      <th>datetime</th>\n",
       "      <td>0</td>\n",
       "    </tr>\n",
       "    <tr>\n",
       "      <th>number</th>\n",
       "      <td>10</td>\n",
       "    </tr>\n",
       "    <tr>\n",
       "      <th>other</th>\n",
       "      <td>2</td>\n",
       "    </tr>\n",
       "  </tbody>\n",
       "</table>\n",
       "</div>"
      ],
      "text/plain": [
       "          count\n",
       "empty         0\n",
       "const         0\n",
       "datetime      0\n",
       "number       10\n",
       "other         2"
      ]
     },
     "execution_count": 7,
     "metadata": {},
     "output_type": "execute_result"
    }
   ],
   "source": [
    "pd.DataFrame.from_dict({'empty':[len(empty_col_names)], \n",
    "                        'const':[len(const_col_names)],\n",
    "                        'datetime':[len(dt_col_names)],\n",
    "                        'number':[len(number_col_names)],\n",
    "                        'other':[len(other_col_names)],\n",
    "                       }, \n",
    "                       orient='index', columns=['count'])"
   ]
  },
  {
   "cell_type": "markdown",
   "metadata": {},
   "source": [
    "# Constant Columns"
   ]
  },
  {
   "cell_type": "code",
   "execution_count": 8,
   "metadata": {},
   "outputs": [],
   "source": [
    "if const_col_names:\n",
    "    df[const_col_names].drop_duplicates().T"
   ]
  },
  {
   "cell_type": "markdown",
   "metadata": {},
   "source": [
    "# Empty Columns"
   ]
  },
  {
   "cell_type": "code",
   "execution_count": 9,
   "metadata": {},
   "outputs": [],
   "source": [
    "if empty_col_names:\n",
    "    df[empty_col_names].drop_duplicates().T"
   ]
  },
  {
   "cell_type": "markdown",
   "metadata": {},
   "source": [
    "# Date and Time Columns"
   ]
  },
  {
   "cell_type": "code",
   "execution_count": 10,
   "metadata": {},
   "outputs": [],
   "source": [
    "if dt_col_names:\n",
    "    display(df[dt_col_names].info())\n",
    "    display(df[dt_col_names].describe().T)"
   ]
  },
  {
   "cell_type": "markdown",
   "metadata": {},
   "source": [
    "# Number Columns"
   ]
  },
  {
   "cell_type": "code",
   "execution_count": 11,
   "metadata": {},
   "outputs": [
    {
     "name": "stdout",
     "output_type": "stream",
     "text": [
      "<class 'pandas.core.frame.DataFrame'>\n",
      "RangeIndex: 104812 entries, 0 to 104811\n",
      "Data columns (total 10 columns):\n",
      "cds            104812 non-null int64\n",
      "currdenom      104812 non-null int64\n",
      "priordenom     104812 non-null int64\n",
      "currstatus     71535 non-null float64\n",
      "priorstatus    70583 non-null float64\n",
      "change         68776 non-null float64\n",
      "statuslevel    104812 non-null int64\n",
      "changelevel    104812 non-null int64\n",
      "color          104812 non-null int64\n",
      "box            104812 non-null int64\n",
      "dtypes: float64(3), int64(7)\n",
      "memory usage: 8.0 MB\n"
     ]
    },
    {
     "data": {
      "text/plain": [
       "None"
      ]
     },
     "metadata": {},
     "output_type": "display_data"
    },
    {
     "data": {
      "text/html": [
       "<div>\n",
       "<style scoped>\n",
       "    .dataframe tbody tr th:only-of-type {\n",
       "        vertical-align: middle;\n",
       "    }\n",
       "\n",
       "    .dataframe tbody tr th {\n",
       "        vertical-align: top;\n",
       "    }\n",
       "\n",
       "    .dataframe thead th {\n",
       "        text-align: right;\n",
       "    }\n",
       "</style>\n",
       "<table border=\"1\" class=\"dataframe\">\n",
       "  <thead>\n",
       "    <tr style=\"text-align: right;\">\n",
       "      <th></th>\n",
       "      <th>count</th>\n",
       "      <th>mean</th>\n",
       "      <th>std</th>\n",
       "      <th>min</th>\n",
       "      <th>25%</th>\n",
       "      <th>50%</th>\n",
       "      <th>75%</th>\n",
       "      <th>max</th>\n",
       "    </tr>\n",
       "  </thead>\n",
       "  <tbody>\n",
       "    <tr>\n",
       "      <th>cds</th>\n",
       "      <td>104812.0</td>\n",
       "      <td>2.968238e+13</td>\n",
       "      <td>1.408606e+13</td>\n",
       "      <td>1.100170e+12</td>\n",
       "      <td>1.964733e+13</td>\n",
       "      <td>3.073651e+13</td>\n",
       "      <td>3.868479e+13</td>\n",
       "      <td>5.872752e+13</td>\n",
       "    </tr>\n",
       "    <tr>\n",
       "      <th>currdenom</th>\n",
       "      <td>104812.0</td>\n",
       "      <td>1.664801e+02</td>\n",
       "      <td>1.257731e+03</td>\n",
       "      <td>0.000000e+00</td>\n",
       "      <td>6.000000e+00</td>\n",
       "      <td>3.400000e+01</td>\n",
       "      <td>1.360000e+02</td>\n",
       "      <td>2.108220e+05</td>\n",
       "    </tr>\n",
       "    <tr>\n",
       "      <th>priordenom</th>\n",
       "      <td>104812.0</td>\n",
       "      <td>1.653518e+02</td>\n",
       "      <td>1.273147e+03</td>\n",
       "      <td>0.000000e+00</td>\n",
       "      <td>6.000000e+00</td>\n",
       "      <td>3.300000e+01</td>\n",
       "      <td>1.330000e+02</td>\n",
       "      <td>2.145070e+05</td>\n",
       "    </tr>\n",
       "    <tr>\n",
       "      <th>currstatus</th>\n",
       "      <td>71535.0</td>\n",
       "      <td>-2.452310e+01</td>\n",
       "      <td>5.465996e+01</td>\n",
       "      <td>-2.057000e+02</td>\n",
       "      <td>-6.170000e+01</td>\n",
       "      <td>-2.690000e+01</td>\n",
       "      <td>1.325000e+01</td>\n",
       "      <td>1.523000e+02</td>\n",
       "    </tr>\n",
       "    <tr>\n",
       "      <th>priorstatus</th>\n",
       "      <td>70583.0</td>\n",
       "      <td>-3.344896e+01</td>\n",
       "      <td>5.246641e+01</td>\n",
       "      <td>-1.961000e+02</td>\n",
       "      <td>-6.920000e+01</td>\n",
       "      <td>-3.630000e+01</td>\n",
       "      <td>2.300000e+00</td>\n",
       "      <td>1.396000e+02</td>\n",
       "    </tr>\n",
       "    <tr>\n",
       "      <th>change</th>\n",
       "      <td>68776.0</td>\n",
       "      <td>9.008984e+00</td>\n",
       "      <td>1.602989e+01</td>\n",
       "      <td>-1.196000e+02</td>\n",
       "      <td>-2.000000e-01</td>\n",
       "      <td>8.800000e+00</td>\n",
       "      <td>1.810000e+01</td>\n",
       "      <td>1.156000e+02</td>\n",
       "    </tr>\n",
       "    <tr>\n",
       "      <th>statuslevel</th>\n",
       "      <td>104812.0</td>\n",
       "      <td>1.730775e+00</td>\n",
       "      <td>1.587377e+00</td>\n",
       "      <td>0.000000e+00</td>\n",
       "      <td>0.000000e+00</td>\n",
       "      <td>2.000000e+00</td>\n",
       "      <td>2.000000e+00</td>\n",
       "      <td>5.000000e+00</td>\n",
       "    </tr>\n",
       "    <tr>\n",
       "      <th>changelevel</th>\n",
       "      <td>104812.0</td>\n",
       "      <td>2.280855e+00</td>\n",
       "      <td>1.905550e+00</td>\n",
       "      <td>0.000000e+00</td>\n",
       "      <td>0.000000e+00</td>\n",
       "      <td>3.000000e+00</td>\n",
       "      <td>4.000000e+00</td>\n",
       "      <td>5.000000e+00</td>\n",
       "    </tr>\n",
       "    <tr>\n",
       "      <th>color</th>\n",
       "      <td>104812.0</td>\n",
       "      <td>1.233771e+00</td>\n",
       "      <td>1.650428e+00</td>\n",
       "      <td>0.000000e+00</td>\n",
       "      <td>0.000000e+00</td>\n",
       "      <td>0.000000e+00</td>\n",
       "      <td>3.000000e+00</td>\n",
       "      <td>5.000000e+00</td>\n",
       "    </tr>\n",
       "    <tr>\n",
       "      <th>box</th>\n",
       "      <td>104812.0</td>\n",
       "      <td>6.503397e+01</td>\n",
       "      <td>8.685122e+01</td>\n",
       "      <td>0.000000e+00</td>\n",
       "      <td>0.000000e+00</td>\n",
       "      <td>0.000000e+00</td>\n",
       "      <td>1.700000e+02</td>\n",
       "      <td>2.500000e+02</td>\n",
       "    </tr>\n",
       "  </tbody>\n",
       "</table>\n",
       "</div>"
      ],
      "text/plain": [
       "                count          mean           std           min           25%  \\\n",
       "cds          104812.0  2.968238e+13  1.408606e+13  1.100170e+12  1.964733e+13   \n",
       "currdenom    104812.0  1.664801e+02  1.257731e+03  0.000000e+00  6.000000e+00   \n",
       "priordenom   104812.0  1.653518e+02  1.273147e+03  0.000000e+00  6.000000e+00   \n",
       "currstatus    71535.0 -2.452310e+01  5.465996e+01 -2.057000e+02 -6.170000e+01   \n",
       "priorstatus   70583.0 -3.344896e+01  5.246641e+01 -1.961000e+02 -6.920000e+01   \n",
       "change        68776.0  9.008984e+00  1.602989e+01 -1.196000e+02 -2.000000e-01   \n",
       "statuslevel  104812.0  1.730775e+00  1.587377e+00  0.000000e+00  0.000000e+00   \n",
       "changelevel  104812.0  2.280855e+00  1.905550e+00  0.000000e+00  0.000000e+00   \n",
       "color        104812.0  1.233771e+00  1.650428e+00  0.000000e+00  0.000000e+00   \n",
       "box          104812.0  6.503397e+01  8.685122e+01  0.000000e+00  0.000000e+00   \n",
       "\n",
       "                      50%           75%           max  \n",
       "cds          3.073651e+13  3.868479e+13  5.872752e+13  \n",
       "currdenom    3.400000e+01  1.360000e+02  2.108220e+05  \n",
       "priordenom   3.300000e+01  1.330000e+02  2.145070e+05  \n",
       "currstatus  -2.690000e+01  1.325000e+01  1.523000e+02  \n",
       "priorstatus -3.630000e+01  2.300000e+00  1.396000e+02  \n",
       "change       8.800000e+00  1.810000e+01  1.156000e+02  \n",
       "statuslevel  2.000000e+00  2.000000e+00  5.000000e+00  \n",
       "changelevel  3.000000e+00  4.000000e+00  5.000000e+00  \n",
       "color        0.000000e+00  3.000000e+00  5.000000e+00  \n",
       "box          0.000000e+00  1.700000e+02  2.500000e+02  "
      ]
     },
     "metadata": {},
     "output_type": "display_data"
    }
   ],
   "source": [
    "if number_col_names:\n",
    "    display(df[number_col_names].info())\n",
    "    display(df[number_col_names].describe().T)"
   ]
  },
  {
   "cell_type": "code",
   "execution_count": 12,
   "metadata": {
    "scrolled": false
   },
   "outputs": [],
   "source": [
    "def plot_histograms(df):\n",
    "\n",
    "    col_names = list(df.columns)\n",
    "\n",
    "    n_cols = np.ceil(np.sqrt(len(col_names)))\n",
    "    n_rows = np.ceil(np.sqrt(len(col_names)))\n",
    "\n",
    "    #plt.figure(figsize=(3*n_cols,3*n_rows))\n",
    "    fig, ax = plt.subplots(figsize=(3*n_cols,3*n_rows))\n",
    "    \n",
    "    for i in range(0,len(col_names)):\n",
    "        plt.subplot(n_rows + 1,n_cols,i+1)\n",
    "        try:\n",
    "            g = sns.distplot(df[col_names[i]].fillna(0),kde=True) \n",
    "            g.set(xticklabels=[])\n",
    "            g.set(yticklabels=[])\n",
    "        except:\n",
    "            pass\n",
    "        \n"
   ]
  },
  {
   "cell_type": "code",
   "execution_count": 13,
   "metadata": {},
   "outputs": [
    {
     "name": "stderr",
     "output_type": "stream",
     "text": [
      "/Users/eric/proj/virt/metapack/lib/python3.6/site-packages/matplotlib/axes/_axes.py:6462: UserWarning: The 'normed' kwarg is deprecated, and has been replaced by the 'density' kwarg.\n",
      "  warnings.warn(\"The 'normed' kwarg is deprecated, and has been \"\n"
     ]
    },
    {
     "data": {
      "image/png": "[encoded data removed]",
      "text/plain": [
       "<Figure size 864x864 with 10 Axes>"
      ]
     },
     "metadata": {},
     "output_type": "display_data"
    }
   ],
   "source": [
    "plot_histograms(df[number_col_names])"
   ]
  },
  {
   "cell_type": "markdown",
   "metadata": {},
   "source": [
    "# Other Columns"
   ]
  },
  {
   "cell_type": "code",
   "execution_count": 14,
   "metadata": {},
   "outputs": [
    {
     "name": "stdout",
     "output_type": "stream",
     "text": [
      "<class 'pandas.core.frame.DataFrame'>\n",
      "RangeIndex: 104812 entries, 0 to 104811\n",
      "Data columns (total 2 columns):\n",
      "rtype           104812 non-null object\n",
      "studentgroup    104812 non-null object\n",
      "dtypes: object(2)\n",
      "memory usage: 1.6+ MB\n"
     ]
    },
    {
     "data": {
      "text/plain": [
       "None"
      ]
     },
     "metadata": {},
     "output_type": "display_data"
    },
    {
     "data": {
      "text/html": [
       "<div>\n",
       "<style scoped>\n",
       "    .dataframe tbody tr th:only-of-type {\n",
       "        vertical-align: middle;\n",
       "    }\n",
       "\n",
       "    .dataframe tbody tr th {\n",
       "        vertical-align: top;\n",
       "    }\n",
       "\n",
       "    .dataframe thead th {\n",
       "        text-align: right;\n",
       "    }\n",
       "</style>\n",
       "<table border=\"1\" class=\"dataframe\">\n",
       "  <thead>\n",
       "    <tr style=\"text-align: right;\">\n",
       "      <th></th>\n",
       "      <th>count</th>\n",
       "      <th>unique</th>\n",
       "      <th>top</th>\n",
       "      <th>freq</th>\n",
       "    </tr>\n",
       "  </thead>\n",
       "  <tbody>\n",
       "    <tr>\n",
       "      <th>rtype</th>\n",
       "      <td>104812</td>\n",
       "      <td>2</td>\n",
       "      <td>S</td>\n",
       "      <td>94159</td>\n",
       "    </tr>\n",
       "    <tr>\n",
       "      <th>studentgroup</th>\n",
       "      <td>104812</td>\n",
       "      <td>14</td>\n",
       "      <td>ALL</td>\n",
       "      <td>8441</td>\n",
       "    </tr>\n",
       "  </tbody>\n",
       "</table>\n",
       "</div>"
      ],
      "text/plain": [
       "               count unique  top   freq\n",
       "rtype         104812      2    S  94159\n",
       "studentgroup  104812     14  ALL   8441"
      ]
     },
     "metadata": {},
     "output_type": "display_data"
    }
   ],
   "source": [
    "if other_col_names:\n",
    "    display(df[other_col_names].info())\n",
    "    display(df[other_col_names].describe().T)"
   ]
  },
  {
   "cell_type": "code",
   "execution_count": null,
   "metadata": {},
   "outputs": [],
   "source": []
  }
 ],
 "metadata": {
  "kernelspec": {
   "display_name": "Python 3",
   "language": "python",
   "name": "python3"
  },
  "language_info": {
   "codemirror_mode": {
    "name": "ipython",
    "version": 3
   },
   "file_extension": ".py",
   "mimetype": "text/x-python",
   "name": "python",
   "nbconvert_exporter": "python",
   "pygments_lexer": "ipython3",
   "version": "3.6.0"
  }
 },
 "nbformat": 4,
 "nbformat_minor": 2
}
