{
 "cells": [
  {
   "cell_type": "markdown",
   "metadata": {},
   "source": [
    "# Exploratory Data Analysis\n",
    "\n",
    "When placed in Metapack data package, this notebook will load the package and run a variety of common EDA operations on the first resource. \n"
   ]
  },
  {
   "cell_type": "code",
   "execution_count": 1,
   "metadata": {},
   "outputs": [],
   "source": [
    "import matplotlib.pyplot as plt \n",
    "import seaborn as sns\n",
    "import metapack as mp\n",
    "import pandas as pd\n",
    "import numpy as np\n",
    "\n",
    "%matplotlib inline\n",
    "sns.set_context('notebook')\n"
   ]
  },
  {
   "cell_type": "code",
   "execution_count": 2,
   "metadata": {},
   "outputs": [
    {
     "data": {
      "text/html": [
       "<h2>California Accountability Model &amp; School Dashboard</h2>\n",
       "<p><p><em>Datasets for the California school dashboard at https://www.caschooldashboard.org</em></p>\n",
       "<p><small>cde.ca.gov-accountability_dashboard-2 from metapack+http://s3.amazonaws.com/library.metatab.org/cde.ca.gov-accountability_dashboard-2.zip#metadata.csv</small></p></p>\n",
       "<h3>Documentation</h3>\n",
       "<h3>Contacts</h3>\n",
       "<p><strong>Origin:</strong>  <a href=\"http://www.cde.ca.gov/\">California Department of Education</a>\n",
       "<strong>Wrangler:</strong> <a href=\"mailto:eric@civicknowledge.com\">Eric Busboom</a> <a href=\"http://www.civicknowledge.com\">Civic Knowledge</a></p>\n",
       "<h3>Resources</h3>\n",
       "<p><ol>\n",
       "<li><p><strong>ela38</strong> - <a target=\"_blank\" href=\"file:///Users/eric/Library/Application%20Support/metapack/s3.amazonaws.com/library.metatab.org/cde.ca.gov-accountability_dashboard-2.zip_d/cde.ca.gov-accountability_dashboard-2/data/ela38.csv\">file:///Users/eric/Library/Application%20Support/metapack/s3.amazonaws.com/library.metatab.org/cde.ca.gov-accountability_dashboard-2.zip_d/cde.ca.gov-accountability_dashboard-2/data/ela38.csv</a> English Language Arts, Grades 3-8</p></li>\n",
       "<li><p><strong>ela11</strong> - <a target=\"_blank\" href=\"file:///Users/eric/Library/Application%20Support/metapack/s3.amazonaws.com/library.metatab.org/cde.ca.gov-accountability_dashboard-2.zip_d/cde.ca.gov-accountability_dashboard-2/data/ela11.csv\">file:///Users/eric/Library/Application%20Support/metapack/s3.amazonaws.com/library.metatab.org/cde.ca.gov-accountability_dashboard-2.zip_d/cde.ca.gov-accountability_dashboard-2/data/ela11.csv</a> English Language Arts, Grade 11</p></li>\n",
       "<li><p><strong>math38</strong> - <a target=\"_blank\" href=\"file:///Users/eric/Library/Application%20Support/metapack/s3.amazonaws.com/library.metatab.org/cde.ca.gov-accountability_dashboard-2.zip_d/cde.ca.gov-accountability_dashboard-2/data/math38.csv\">file:///Users/eric/Library/Application%20Support/metapack/s3.amazonaws.com/library.metatab.org/cde.ca.gov-accountability_dashboard-2.zip_d/cde.ca.gov-accountability_dashboard-2/data/math38.csv</a> Math, Grades 3-8</p></li>\n",
       "<li><p><strong>math11</strong> - <a target=\"_blank\" href=\"file:///Users/eric/Library/Application%20Support/metapack/s3.amazonaws.com/library.metatab.org/cde.ca.gov-accountability_dashboard-2.zip_d/cde.ca.gov-accountability_dashboard-2/data/math11.csv\">file:///Users/eric/Library/Application%20Support/metapack/s3.amazonaws.com/library.metatab.org/cde.ca.gov-accountability_dashboard-2.zip_d/cde.ca.gov-accountability_dashboard-2/data/math11.csv</a> Math, Grade 11</p></li>\n",
       "<li><p><strong>collegecareer</strong> - <a target=\"_blank\" href=\"file:///Users/eric/Library/Application%20Support/metapack/s3.amazonaws.com/library.metatab.org/cde.ca.gov-accountability_dashboard-2.zip_d/cde.ca.gov-accountability_dashboard-2/data/collegecareer.csv\">file:///Users/eric/Library/Application%20Support/metapack/s3.amazonaws.com/library.metatab.org/cde.ca.gov-accountability_dashboard-2.zip_d/cde.ca.gov-accountability_dashboard-2/data/collegecareer.csv</a> College / Career Indicators</p></li>\n",
       "<li><p><strong>gradrate</strong> - <a target=\"_blank\" href=\"file:///Users/eric/Library/Application%20Support/metapack/s3.amazonaws.com/library.metatab.org/cde.ca.gov-accountability_dashboard-2.zip_d/cde.ca.gov-accountability_dashboard-2/data/gradrate.csv\">file:///Users/eric/Library/Application%20Support/metapack/s3.amazonaws.com/library.metatab.org/cde.ca.gov-accountability_dashboard-2.zip_d/cde.ca.gov-accountability_dashboard-2/data/gradrate.csv</a> Graduation Rate</p></li>\n",
       "<li><p><strong>susprate</strong> - <a target=\"_blank\" href=\"file:///Users/eric/Library/Application%20Support/metapack/s3.amazonaws.com/library.metatab.org/cde.ca.gov-accountability_dashboard-2.zip_d/cde.ca.gov-accountability_dashboard-2/data/susprate.csv\">file:///Users/eric/Library/Application%20Support/metapack/s3.amazonaws.com/library.metatab.org/cde.ca.gov-accountability_dashboard-2.zip_d/cde.ca.gov-accountability_dashboard-2/data/susprate.csv</a> Suspension Rate</p></li>\n",
       "<li><p><strong>elaprog</strong> - <a target=\"_blank\" href=\"file:///Users/eric/Library/Application%20Support/metapack/s3.amazonaws.com/library.metatab.org/cde.ca.gov-accountability_dashboard-2.zip_d/cde.ca.gov-accountability_dashboard-2/data/elaprog.csv\">file:///Users/eric/Library/Application%20Support/metapack/s3.amazonaws.com/library.metatab.org/cde.ca.gov-accountability_dashboard-2.zip_d/cde.ca.gov-accountability_dashboard-2/data/elaprog.csv</a> English Language Arts Progress Indicators</p></li>\n",
       "<li><p><strong>pubschools</strong> - <a target=\"_blank\" href=\"file:///Users/eric/Library/Application%20Support/metapack/s3.amazonaws.com/library.metatab.org/cde.ca.gov-accountability_dashboard-2.zip_d/cde.ca.gov-accountability_dashboard-2/data/pubschools.csv\">file:///Users/eric/Library/Application%20Support/metapack/s3.amazonaws.com/library.metatab.org/cde.ca.gov-accountability_dashboard-2.zip_d/cde.ca.gov-accountability_dashboard-2/data/pubschools.csv</a> List of all public schools and districts</p></li></p>\n",
       "</ol>\n",
       "\n",
       "</ol>"
      ],
      "text/plain": [
       "<metapack.doc.MetapackDoc at 0x11724fef0>"
      ]
     },
     "execution_count": 2,
     "metadata": {},
     "output_type": "execute_result"
    }
   ],
   "source": [
    "\n",
    "try:\n",
    "    pkg = mp.jupyter.open_package()\n",
    "except mp.exc.PackageError:\n",
    "    pkg = mp.open_package('http://s3.amazonaws.com/library.metatab.org/cde.ca.gov-accountability_dashboard-2.zip')\n",
    "\n",
    "pkg"
   ]
  },
  {
   "cell_type": "code",
   "execution_count": 3,
   "metadata": {},
   "outputs": [
    {
     "data": {
      "text/plain": [
       "'ela38'"
      ]
     },
     "execution_count": 3,
     "metadata": {},
     "output_type": "execute_result"
    }
   ],
   "source": [
    "first_resource = next(iter(pkg.resources())).name\n",
    "first_resource"
   ]
  },
  {
   "cell_type": "code",
   "execution_count": 4,
   "metadata": {},
   "outputs": [
    {
     "data": {
      "text/html": [
       "<h3><a name=\"resource-ela38\"></a>ela38</h3><p><a target=\"_blank\" href=\"file:///Users/eric/Library/Application%20Support/metapack/s3.amazonaws.com/library.metatab.org/cde.ca.gov-accountability_dashboard-2.zip_d/cde.ca.gov-accountability_dashboard-2/data/ela38.csv\">file:///Users/eric/Library/Application%20Support/metapack/s3.amazonaws.com/library.metatab.org/cde.ca.gov-accountability_dashboard-2.zip_d/cde.ca.gov-accountability_dashboard-2/data/ela38.csv</a></p><table>\n",
       "<tr><th>Header</th><th>Type</th><th>Description</th></tr><tr><td>cds</td><td>integer</td><td>CDS Code</td></tr> \n",
       "<tr><td>rtype</td><td>text</td><td>Record Type</td></tr> \n",
       "<tr><td>studentgroup</td><td>text</td><td>Student Group</td></tr> \n",
       "<tr><td>currdenom</td><td>integer</td><td>Current year number of valid students</td></tr> \n",
       "<tr><td>priordenom</td><td>integer</td><td>CURRENT STATUS - Average distance from level 3</td></tr> \n",
       "<tr><td>currstatus</td><td>text</td><td>Prior year number of valid students</td></tr> \n",
       "<tr><td>priorstatus</td><td>text</td><td>PRIOR STATUS - Average distance from level 3</td></tr> \n",
       "<tr><td>change</td><td>text</td><td>CHANGE - Difference between current status and prior status</td></tr> \n",
       "<tr><td>statuslevel</td><td>integer</td><td>Status Level</td></tr> \n",
       "<tr><td>changelevel</td><td>integer</td><td>Change Level</td></tr> \n",
       "<tr><td>color</td><td>integer</td><td>Color</td></tr> \n",
       "<tr><td>box</td><td>integer</td><td>If a color was assigned, this value represents the specific 5x5 grid location</td></tr> </table>"
      ],
      "text/plain": [
       "<Resource: metadata.csv 21:1 root.datafile data/ela38.csv ['ela38', '', 'English Language Arts, Grades 3-8']>"
      ]
     },
     "execution_count": 4,
     "metadata": {},
     "output_type": "execute_result"
    }
   ],
   "source": [
    "\n",
    "pkg.resource(first_resource)\n"
   ]
  },
  {
   "cell_type": "code",
   "execution_count": 5,
   "metadata": {},
   "outputs": [],
   "source": [
    "df = pkg.resource(first_resource).read_csv(parse_dates=True)"
   ]
  },
  {
   "cell_type": "code",
   "execution_count": 6,
   "metadata": {},
   "outputs": [
    {
     "data": {
      "text/html": [
       "<div>\n",
       "<style scoped>\n",
       "    .dataframe tbody tr th:only-of-type {\n",
       "        vertical-align: middle;\n",
       "    }\n",
       "\n",
       "    .dataframe tbody tr th {\n",
       "        vertical-align: top;\n",
       "    }\n",
       "\n",
       "    .dataframe thead th {\n",
       "        text-align: right;\n",
       "    }\n",
       "</style>\n",
       "<table border=\"1\" class=\"dataframe\">\n",
       "  <thead>\n",
       "    <tr style=\"text-align: right;\">\n",
       "      <th></th>\n",
       "      <th>cds</th>\n",
       "      <th>rtype</th>\n",
       "      <th>studentgroup</th>\n",
       "      <th>currdenom</th>\n",
       "      <th>priordenom</th>\n",
       "      <th>currstatus</th>\n",
       "      <th>priorstatus</th>\n",
       "      <th>change</th>\n",
       "      <th>statuslevel</th>\n",
       "      <th>changelevel</th>\n",
       "      <th>color</th>\n",
       "      <th>box</th>\n",
       "    </tr>\n",
       "  </thead>\n",
       "  <tbody>\n",
       "    <tr>\n",
       "      <th>0</th>\n",
       "      <td>1100170123968</td>\n",
       "      <td>S</td>\n",
       "      <td>AA</td>\n",
       "      <td>14</td>\n",
       "      <td>23</td>\n",
       "      <td>-87.7</td>\n",
       "      <td>-41.6</td>\n",
       "      <td>-46.1</td>\n",
       "      <td>1</td>\n",
       "      <td>1</td>\n",
       "      <td>0</td>\n",
       "      <td>0</td>\n",
       "    </tr>\n",
       "    <tr>\n",
       "      <th>1</th>\n",
       "      <td>1100170123968</td>\n",
       "      <td>S</td>\n",
       "      <td>AI</td>\n",
       "      <td>2</td>\n",
       "      <td>0</td>\n",
       "      <td>NaN</td>\n",
       "      <td>NaN</td>\n",
       "      <td>NaN</td>\n",
       "      <td>0</td>\n",
       "      <td>0</td>\n",
       "      <td>0</td>\n",
       "      <td>0</td>\n",
       "    </tr>\n",
       "    <tr>\n",
       "      <th>2</th>\n",
       "      <td>1100170123968</td>\n",
       "      <td>S</td>\n",
       "      <td>ALL</td>\n",
       "      <td>86</td>\n",
       "      <td>81</td>\n",
       "      <td>-58.8</td>\n",
       "      <td>-48.0</td>\n",
       "      <td>-10.8</td>\n",
       "      <td>2</td>\n",
       "      <td>2</td>\n",
       "      <td>2</td>\n",
       "      <td>170</td>\n",
       "    </tr>\n",
       "    <tr>\n",
       "      <th>3</th>\n",
       "      <td>1100170123968</td>\n",
       "      <td>S</td>\n",
       "      <td>AS</td>\n",
       "      <td>4</td>\n",
       "      <td>5</td>\n",
       "      <td>NaN</td>\n",
       "      <td>NaN</td>\n",
       "      <td>NaN</td>\n",
       "      <td>0</td>\n",
       "      <td>0</td>\n",
       "      <td>0</td>\n",
       "      <td>0</td>\n",
       "    </tr>\n",
       "    <tr>\n",
       "      <th>4</th>\n",
       "      <td>1100170123968</td>\n",
       "      <td>S</td>\n",
       "      <td>EL</td>\n",
       "      <td>38</td>\n",
       "      <td>23</td>\n",
       "      <td>-79.9</td>\n",
       "      <td>-70.0</td>\n",
       "      <td>-9.9</td>\n",
       "      <td>1</td>\n",
       "      <td>2</td>\n",
       "      <td>0</td>\n",
       "      <td>0</td>\n",
       "    </tr>\n",
       "  </tbody>\n",
       "</table>\n",
       "</div>"
      ],
      "text/plain": [
       "             cds rtype studentgroup  currdenom  priordenom  currstatus  \\\n",
       "0  1100170123968     S           AA         14          23       -87.7   \n",
       "1  1100170123968     S           AI          2           0         NaN   \n",
       "2  1100170123968     S          ALL         86          81       -58.8   \n",
       "3  1100170123968     S           AS          4           5         NaN   \n",
       "4  1100170123968     S           EL         38          23       -79.9   \n",
       "\n",
       "   priorstatus  change  statuslevel  changelevel  color  box  \n",
       "0        -41.6   -46.1            1            1      0    0  \n",
       "1          NaN     NaN            0            0      0    0  \n",
       "2        -48.0   -10.8            2            2      2  170  \n",
       "3          NaN     NaN            0            0      0    0  \n",
       "4        -70.0    -9.9            1            2      0    0  "
      ]
     },
     "execution_count": 6,
     "metadata": {},
     "output_type": "execute_result"
    }
   ],
   "source": [
    "df.head()"
   ]
  },
  {
   "cell_type": "code",
   "execution_count": 7,
   "metadata": {},
   "outputs": [],
   "source": [
    "empty_col_names = [cn for cn in df.columns if df[cn].nunique() == 0]\n",
    "const_col_names= [cn for cn in df.columns if df[cn].nunique() == 1]\n",
    "ignore_cols = empty_col_names+const_col_names\n",
    "dt_col_names= list(df.select_dtypes(include=[np.datetime64]).columns)\n",
    "\n",
    "number_col_names = [ cn for cn in df.select_dtypes(include=[np.number]).columns if cn not in ignore_cols ]\n",
    "other_col_names = [cn for cn in df.columns if cn not in (empty_col_names+const_col_names+dt_col_names+number_col_names) ]"
   ]
  },
  {
   "cell_type": "markdown",
   "metadata": {},
   "source": [
    "# Constant Columns"
   ]
  },
  {
   "cell_type": "code",
   "execution_count": 8,
   "metadata": {},
   "outputs": [
    {
     "ename": "ValueError",
     "evalue": "not enough values to unpack (expected 2, got 0)",
     "output_type": "error",
     "traceback": [
      "\u001b[0;31m---------------------------------------------------------------------------\u001b[0m",
      "\u001b[0;31mValueError\u001b[0m                                Traceback (most recent call last)",
      "\u001b[0;32m<ipython-input-8-243994455c82>\u001b[0m in \u001b[0;36m<module>\u001b[0;34m()\u001b[0m\n\u001b[0;32m----> 1\u001b[0;31m \u001b[0mdf\u001b[0m\u001b[0;34m[\u001b[0m\u001b[0mconst_col_names\u001b[0m\u001b[0;34m]\u001b[0m\u001b[0;34m.\u001b[0m\u001b[0mdrop_duplicates\u001b[0m\u001b[0;34m(\u001b[0m\u001b[0;34m)\u001b[0m\u001b[0;34m.\u001b[0m\u001b[0mT\u001b[0m\u001b[0;34m\u001b[0m\u001b[0m\n\u001b[0m",
      "\u001b[0;32m~/proj/virt/metapack/lib/python3.6/site-packages/pandas/core/frame.py\u001b[0m in \u001b[0;36mdrop_duplicates\u001b[0;34m(self, subset, keep, inplace)\u001b[0m\n\u001b[1;32m   3533\u001b[0m         \"\"\"\n\u001b[1;32m   3534\u001b[0m         \u001b[0minplace\u001b[0m \u001b[0;34m=\u001b[0m \u001b[0mvalidate_bool_kwarg\u001b[0m\u001b[0;34m(\u001b[0m\u001b[0minplace\u001b[0m\u001b[0;34m,\u001b[0m \u001b[0;34m'inplace'\u001b[0m\u001b[0;34m)\u001b[0m\u001b[0;34m\u001b[0m\u001b[0m\n\u001b[0;32m-> 3535\u001b[0;31m         \u001b[0mduplicated\u001b[0m \u001b[0;34m=\u001b[0m \u001b[0mself\u001b[0m\u001b[0;34m.\u001b[0m\u001b[0mduplicated\u001b[0m\u001b[0;34m(\u001b[0m\u001b[0msubset\u001b[0m\u001b[0;34m,\u001b[0m \u001b[0mkeep\u001b[0m\u001b[0;34m=\u001b[0m\u001b[0mkeep\u001b[0m\u001b[0;34m)\u001b[0m\u001b[0;34m\u001b[0m\u001b[0m\n\u001b[0m\u001b[1;32m   3536\u001b[0m \u001b[0;34m\u001b[0m\u001b[0m\n\u001b[1;32m   3537\u001b[0m         \u001b[0;32mif\u001b[0m \u001b[0minplace\u001b[0m\u001b[0;34m:\u001b[0m\u001b[0;34m\u001b[0m\u001b[0m\n",
      "\u001b[0;32m~/proj/virt/metapack/lib/python3.6/site-packages/pandas/core/frame.py\u001b[0m in \u001b[0;36mduplicated\u001b[0;34m(self, subset, keep)\u001b[0m\n\u001b[1;32m   3580\u001b[0m         vals = (col.values for name, col in self.iteritems()\n\u001b[1;32m   3581\u001b[0m                 if name in subset)\n\u001b[0;32m-> 3582\u001b[0;31m         \u001b[0mlabels\u001b[0m\u001b[0;34m,\u001b[0m \u001b[0mshape\u001b[0m \u001b[0;34m=\u001b[0m \u001b[0mmap\u001b[0m\u001b[0;34m(\u001b[0m\u001b[0mlist\u001b[0m\u001b[0;34m,\u001b[0m \u001b[0mzip\u001b[0m\u001b[0;34m(\u001b[0m\u001b[0;34m*\u001b[0m\u001b[0mmap\u001b[0m\u001b[0;34m(\u001b[0m\u001b[0mf\u001b[0m\u001b[0;34m,\u001b[0m \u001b[0mvals\u001b[0m\u001b[0;34m)\u001b[0m\u001b[0;34m)\u001b[0m\u001b[0;34m)\u001b[0m\u001b[0;34m\u001b[0m\u001b[0m\n\u001b[0m\u001b[1;32m   3583\u001b[0m \u001b[0;34m\u001b[0m\u001b[0m\n\u001b[1;32m   3584\u001b[0m         \u001b[0mids\u001b[0m \u001b[0;34m=\u001b[0m \u001b[0mget_group_index\u001b[0m\u001b[0;34m(\u001b[0m\u001b[0mlabels\u001b[0m\u001b[0;34m,\u001b[0m \u001b[0mshape\u001b[0m\u001b[0;34m,\u001b[0m \u001b[0msort\u001b[0m\u001b[0;34m=\u001b[0m\u001b[0;32mFalse\u001b[0m\u001b[0;34m,\u001b[0m \u001b[0mxnull\u001b[0m\u001b[0;34m=\u001b[0m\u001b[0;32mFalse\u001b[0m\u001b[0;34m)\u001b[0m\u001b[0;34m\u001b[0m\u001b[0m\n",
      "\u001b[0;31mValueError\u001b[0m: not enough values to unpack (expected 2, got 0)"
     ]
    }
   ],
   "source": [
    "df[const_col_names].drop_duplicates().T"
   ]
  },
  {
   "cell_type": "markdown",
   "metadata": {},
   "source": [
    "# Empty Columns"
   ]
  },
  {
   "cell_type": "code",
   "execution_count": null,
   "metadata": {},
   "outputs": [],
   "source": [
    "df[empty_col_names].drop_duplicates().T"
   ]
  },
  {
   "cell_type": "markdown",
   "metadata": {},
   "source": [
    "# Date and Time Columns"
   ]
  },
  {
   "cell_type": "code",
   "execution_count": null,
   "metadata": {},
   "outputs": [],
   "source": [
    "df[dt_col_names].info()"
   ]
  },
  {
   "cell_type": "code",
   "execution_count": null,
   "metadata": {},
   "outputs": [],
   "source": [
    "df[dt_col_names].describe()"
   ]
  },
  {
   "cell_type": "markdown",
   "metadata": {},
   "source": [
    "# Number Columns"
   ]
  },
  {
   "cell_type": "code",
   "execution_count": null,
   "metadata": {},
   "outputs": [],
   "source": [
    "df[number_col_names].info()"
   ]
  },
  {
   "cell_type": "code",
   "execution_count": null,
   "metadata": {},
   "outputs": [],
   "source": [
    "df[number_col_names].describe()"
   ]
  },
  {
   "cell_type": "code",
   "execution_count": null,
   "metadata": {
    "scrolled": false
   },
   "outputs": [],
   "source": [
    "def plot_histograms(df):\n",
    "\n",
    "    col_names = list(df.columns)\n",
    "\n",
    "    n_cols = np.ceil(np.sqrt(len(col_names)))\n",
    "    n_rows = np.ceil(np.sqrt(len(col_names)))\n",
    "\n",
    "    plt.figure(figsize=(2*n_cols,5*n_rows))\n",
    "\n",
    "    for i in range(0,len(col_names)):\n",
    "        plt.subplot(n_rows + 1,n_cols,i+1)\n",
    "        try:\n",
    "            sns.distplot(df[col_names[i]].fillna(0),kde=True) \n",
    "        except:\n",
    "            pass\n"
   ]
  },
  {
   "cell_type": "code",
   "execution_count": null,
   "metadata": {},
   "outputs": [],
   "source": [
    "plot_histograms(df[number_col_names])"
   ]
  },
  {
   "cell_type": "markdown",
   "metadata": {},
   "source": [
    "# Other Columns"
   ]
  },
  {
   "cell_type": "code",
   "execution_count": null,
   "metadata": {},
   "outputs": [],
   "source": [
    "df[other_col_names].info()"
   ]
  },
  {
   "cell_type": "code",
   "execution_count": null,
   "metadata": {},
   "outputs": [],
   "source": [
    "df[other_col_names].describe().T"
   ]
  },
  {
   "cell_type": "code",
   "execution_count": null,
   "metadata": {},
   "outputs": [],
   "source": []
  }
 ],
 "metadata": {
  "kernelspec": {
   "display_name": "Python 3",
   "language": "python",
   "name": "python3"
  },
  "language_info": {
   "codemirror_mode": {
    "name": "ipython",
    "version": 3
   },
   "file_extension": ".py",
   "mimetype": "text/x-python",
   "name": "python",
   "nbconvert_exporter": "python",
   "pygments_lexer": "ipython3",
   "version": "3.6.0"
  }
 },
 "nbformat": 4,
 "nbformat_minor": 2
}
